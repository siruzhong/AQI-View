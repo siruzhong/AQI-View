{
 "cells": [
  {
   "cell_type": "code",
   "execution_count": 23,
   "metadata": {},
   "outputs": [],
   "source": [
    "import numpy as np\n",
    "import pandas as pd\n",
    "import math"
   ]
  },
  {
   "cell_type": "code",
   "execution_count": 24,
   "metadata": {},
   "outputs": [],
   "source": [
    "hour_data = np.load(\"data/hour_data.npy\")"
   ]
  },
  {
   "cell_type": "code",
   "execution_count": 25,
   "metadata": {},
   "outputs": [],
   "source": [
    "hour_pm25 =hour_data[...,0]"
   ]
  },
  {
   "cell_type": "code",
   "execution_count": 26,
   "metadata": {},
   "outputs": [],
   "source": [
    "station_path = \"/home/yuxuan/wqy/Air_inference/data/\"\n",
    "stations = pd.read_csv(\"/home/yuxuan/wqy/Air_inference/data/\" + '1085_stations.csv')"
   ]
  },
  {
   "cell_type": "code",
   "execution_count": 56,
   "metadata": {},
   "outputs": [],
   "source": [
    "stations['pm25']=hour_pm25"
   ]
  },
  {
   "cell_type": "code",
   "execution_count": 65,
   "metadata": {},
   "outputs": [],
   "source": [
    "# 定义左上角和右下角的经纬度坐标\n",
    "top_left = (73.683851, 53.714166)\n",
    "bottom_right = (135.383069, 18.424216)\n",
    "\n",
    "# 计算经度和纬度的跨度\n",
    "longitude_span = bottom_right[0] - top_left[0]\n",
    "latitude_span = top_left[1] - bottom_right[1]\n",
    "\n",
    "\n",
    "# 根据边长计算每个网格在经度和纬度上的跨度\n",
    "grid_length = 1.0 # 1km\n",
    "grid_longitude_span = grid_length / (111.12 * math.cos(math.radians(top_left[1])))\n",
    "grid_latitude_span = grid_length / 111.12\n",
    "\n",
    "# 计算经度和纬度上的网格数\n",
    "num_longitude_grids = int(np.ceil(longitude_span / grid_longitude_span))\n",
    "num_latitude_grids = int(np.ceil(latitude_span / grid_latitude_span))\n",
    "\n",
    "# 生成网格的经纬度坐标和初始值为0的字典\n",
    "grids = np.zeros((num_latitude_grids,num_longitude_grids))\n",
    "\n",
    "\n",
    "# 假设DataFrame变量名为df\n",
    "\n",
    "# 遍历DataFrame中的每一行数据\n",
    "for index, row in stations.iterrows():\n",
    "    longitude = row['longitude']\n",
    "    latitude = row['latitude']\n",
    "    pm25 = row['pm25']\n",
    "    \n",
    "    if top_left[0] <= longitude <= bottom_right[0] and bottom_right[1] <= latitude <= top_left[1]:\n",
    "        # 计算相对于左上角的经纬度\n",
    "        relative_longitude = longitude - top_left[0]\n",
    "        relative_latitude = top_left[1] - latitude\n",
    "        \n",
    "        # 计算位于哪个网格\n",
    "        grid_longitude = int(np.floor(relative_longitude / grid_longitude_span))\n",
    "        grid_latitude = int(np.floor(relative_latitude / grid_latitude_span))\n",
    "        \n",
    "        grids[grid_latitude][grid_longitude] = pm25\n",
    "\n"
   ]
  },
  {
   "cell_type": "code",
   "execution_count": 61,
   "metadata": {},
   "outputs": [
    {
     "data": {
      "text/plain": [
       "array([[0., 0., 0., ..., 0., 0., 0.],\n",
       "       [0., 0., 0., ..., 0., 0., 0.],\n",
       "       [0., 0., 0., ..., 0., 0., 0.],\n",
       "       ...,\n",
       "       [0., 0., 0., ..., 0., 0., 0.],\n",
       "       [0., 0., 0., ..., 0., 0., 0.],\n",
       "       [0., 0., 0., ..., 0., 0., 0.]])"
      ]
     },
     "execution_count": 61,
     "metadata": {},
     "output_type": "execute_result"
    }
   ],
   "source": [
    "grids"
   ]
  },
  {
   "cell_type": "code",
   "execution_count": 40,
   "metadata": {},
   "outputs": [],
   "source": [
    "def fill_missing_values(grid):\n",
    "    \"\"\"\n",
    "    使用局部插值法填充网格中的空值\n",
    "    \"\"\"\n",
    "    # 找到不为0的点\n",
    "    nonzero_points = np.argwhere(grid != 0)\n",
    "    \n",
    "    # 对每个不为0的点周围的网格进行插值\n",
    "    for point in nonzero_points:\n",
    "        x, y = point\n",
    "        for i in range(x-1, x+2):\n",
    "            for j in range(y-1, y+2):\n",
    "                if i >= 0 and i < grid.shape[0] and j >= 0 and j < grid.shape[1] and grid[i][j] == 0:\n",
    "                    # 对空值进行插值\n",
    "                    grid[i][j] = np.mean(grid[max(0, i-1):min(i+2, grid.shape[0]), max(0, j-1):min(j+2, grid.shape[1])])\n",
    "    \n",
    "    return grid"
   ]
  },
  {
   "cell_type": "code",
   "execution_count": 17,
   "metadata": {},
   "outputs": [],
   "source": [
    "nonzero_points = np.argwhere(grids != 0)"
   ]
  },
  {
   "cell_type": "code",
   "execution_count": 52,
   "metadata": {},
   "outputs": [],
   "source": [
    "grid_1km = grids"
   ]
  },
  {
   "cell_type": "code",
   "execution_count": 66,
   "metadata": {},
   "outputs": [],
   "source": [
    "import numpy as np\n",
    "from scipy.interpolate import griddata\n",
    "from scipy.interpolate import Rbf\n",
    "# 将已有值的网格点和对应的值转换为数组\n",
    "points = []\n",
    "values = []\n",
    "for lat in range(num_latitude_grids):\n",
    "    for lon in range(num_longitude_grids):\n",
    "        if grids[lat, lon] != 0:\n",
    "            points.append([lat, lon])\n",
    "            values.append(grids[lat, lon])\n",
    "\n",
    "points = np.array(points)\n",
    "values = np.array(values)\n",
    "\n",
    "# 移除数组中的缺失值\n",
    "mask = ~np.isnan(values)\n",
    "points = points[mask]\n",
    "values = values[mask]\n",
    "\n",
    "# 生成新的网格点坐标\n",
    "new_points = np.array(np.meshgrid(range(num_latitude_grids), range(num_longitude_grids))).T.reshape(-1, 2)\n",
    "\n",
    "# 执行插值\n",
    "rbf = Rbf(points[:, 0], points[:, 1], values, function='linear')\n",
    "interpolated_values = rbf(new_points[:, 0], new_points[:, 1])\n",
    "\n",
    "# 将插值结果填充到网格中\n",
    "mask = grids == 0\n",
    "grids[mask] = interpolated_values[:np.sum(mask)]"
   ]
  },
  {
   "cell_type": "code",
   "execution_count": null,
   "metadata": {},
   "outputs": [],
   "source": []
  }
 ],
 "metadata": {
  "kernelspec": {
   "display_name": "Python 2",
   "language": "python",
   "name": "python2"
  },
  "language_info": {
   "codemirror_mode": {
    "name": "ipython",
    "version": 3
   },
   "file_extension": ".py",
   "mimetype": "text/x-python",
   "name": "python",
   "nbconvert_exporter": "python",
   "pygments_lexer": "ipython3",
   "version": "3.10.9"
  },
  "orig_nbformat": 4
 },
 "nbformat": 4,
 "nbformat_minor": 2
}
